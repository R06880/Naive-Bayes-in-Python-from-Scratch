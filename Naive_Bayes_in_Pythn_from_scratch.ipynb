{
 "cells": [
  {
   "cell_type": "markdown",
   "metadata": {},
   "source": [
    "## Naive Bayes implementation in Python from scratch"
   ]
  },
  {
   "cell_type": "code",
   "execution_count": 69,
   "metadata": {},
   "outputs": [],
   "source": [
    "# Naive Bayes uses Bayes Theorem but with the assumption that the columns in the dataset are independent\n",
    "\n",
    "# Bayes Theorem:\n",
    "\n",
    "# P(class|data) = P(data|class) * P(class) / P(data)\n",
    "\n",
    "# We will go over a few steps to implement the above idea:\n",
    "\n",
    "# We wil separate the dataset by class, that is, we will group the rows having the same class\n",
    "# We will calculate the mean and standard deviation for each column and each class\n",
    "# we will do a gaussian probability function, that computes the probability of a new value being taken from\n",
    "# a gaussian distrinution with a certain mean and standard deviation\n",
    "# We will then predict for a new row the probability of being in each class, by calculating the probability of\n",
    "# each class and the probability of the features of the new row being taken from a gaussian distribution with the\n",
    "# mean and standard deviation of the columns of that class in the original dataset"
   ]
  },
  {
   "cell_type": "code",
   "execution_count": 70,
   "metadata": {},
   "outputs": [],
   "source": [
    "# function to separate by class\n",
    "\n",
    "def separate(dataset):\n",
    "    \n",
    "    my_dict = {}\n",
    "    \n",
    "    for row in dataset:\n",
    "        \n",
    "        if row[-1] not in my_dict:\n",
    "            my_dict[row[-1]]=[]\n",
    "        \n",
    "        my_dict[row[-1]].append(row)\n",
    "    \n",
    "    return my_dict"
   ]
  },
  {
   "cell_type": "code",
   "execution_count": 71,
   "metadata": {},
   "outputs": [
    {
     "name": "stdout",
     "output_type": "stream",
     "text": [
      "0\n",
      "[3.393533211, 2.331273381, 0]\n",
      "[3.110073483, 1.781539638, 0]\n",
      "[1.343808831, 3.368360954, 0]\n",
      "[3.582294042, 4.67917911, 0]\n",
      "[2.280362439, 2.866990263, 0]\n",
      "1\n",
      "[7.423436942, 4.696522875, 1]\n",
      "[5.745051997, 3.533989803, 1]\n",
      "[9.172168622, 2.511101045, 1]\n",
      "[7.792783481, 3.424088941, 1]\n",
      "[7.939820817, 0.791637231, 1]\n"
     ]
    }
   ],
   "source": [
    "# Test separating data by class\n",
    "\n",
    "dataset = [[3.393533211,2.331273381,0],\n",
    "    [3.110073483,1.781539638,0],\n",
    "    [1.343808831,3.368360954,0],\n",
    "    [3.582294042,4.67917911,0],\n",
    "    [2.280362439,2.866990263,0],\n",
    "    [7.423436942,4.696522875,1],\n",
    "    [5.745051997,3.533989803,1],\n",
    "    [9.172168622,2.511101045,1],\n",
    "    [7.792783481,3.424088941,1],\n",
    "    [7.939820817,0.791637231,1]]\n",
    "\n",
    "separated = separate(dataset)\n",
    "\n",
    "for label in separated:\n",
    "    print(label)\n",
    "    for row in separated[label]:\n",
    "        print(row)"
   ]
  },
  {
   "cell_type": "code",
   "execution_count": 72,
   "metadata": {},
   "outputs": [],
   "source": [
    "# function to get the mean of a column\n",
    "\n",
    "def mean(column):\n",
    "    \n",
    "    return sum(column)/len(column)"
   ]
  },
  {
   "cell_type": "code",
   "execution_count": 73,
   "metadata": {},
   "outputs": [],
   "source": [
    "# function to calculate the standard deviation of a column\n",
    "\n",
    "def std_dev(column):\n",
    "    \n",
    "    avg = mean(column)\n",
    "    \n",
    "    std = 0\n",
    "    \n",
    "    for x in column:\n",
    "        std = std + (x-avg)**2\n",
    "    \n",
    "    std = std/float((len(column)-1))\n",
    "    \n",
    "    std = std**(1/2)\n",
    "    \n",
    "    return std"
   ]
  },
  {
   "cell_type": "code",
   "execution_count": 74,
   "metadata": {},
   "outputs": [],
   "source": [
    "# function to get the above statistics for a whole dataset\n",
    "\n",
    "def summarize(dataset):\n",
    "    \n",
    "    summaries = []\n",
    "    \n",
    "    for column in zip(*dataset):\n",
    "        summaries.append((mean(column), std_dev(column), len(column)))\n",
    "    \n",
    "    del(summaries[-1])\n",
    "        \n",
    "    return summaries"
   ]
  },
  {
   "cell_type": "code",
   "execution_count": 75,
   "metadata": {},
   "outputs": [
    {
     "name": "stdout",
     "output_type": "stream",
     "text": [
      "[(5.178333386499999, 2.7665845055177263, 10), (2.9984683241, 1.218556343617447, 10)]\n"
     ]
    }
   ],
   "source": [
    "summary = summarize(dataset)\n",
    "print(summary)"
   ]
  },
  {
   "cell_type": "code",
   "execution_count": 76,
   "metadata": {},
   "outputs": [],
   "source": [
    "# function to get the statistics for each class\n",
    "\n",
    "def summarize_by_class(dataset):\n",
    "    \n",
    "    my_dict = separate(dataset)\n",
    "    \n",
    "    summaries = {}\n",
    "    \n",
    "    for class_value, rows in my_dict.items():\n",
    "        summaries[class_value] = summarize(rows)\n",
    "    \n",
    "    return summaries"
   ]
  },
  {
   "cell_type": "code",
   "execution_count": 77,
   "metadata": {},
   "outputs": [
    {
     "name": "stdout",
     "output_type": "stream",
     "text": [
      "0\n",
      "(2.7420144012, 0.9265683289298018, 5)\n",
      "(3.0054686692, 1.1073295894898725, 5)\n",
      "1\n",
      "(7.6146523718, 1.2344321550313704, 5)\n",
      "(2.9914679790000003, 1.4541931384601618, 5)\n"
     ]
    }
   ],
   "source": [
    "summary = summarize_by_class(dataset)\n",
    "for label in summary:\n",
    "    print(label)\n",
    "    for row in summary[label]:\n",
    "        print(row)"
   ]
  },
  {
   "cell_type": "code",
   "execution_count": 78,
   "metadata": {},
   "outputs": [],
   "source": [
    "# function for a normal distribution\n",
    "import math\n",
    "\n",
    "def gaussian(x,mean,std_dev):\n",
    "    \n",
    "    exponent = math.exp(-((x-mean)**2 / (2 * std_dev**2 )))\n",
    "    \n",
    "    return (1 / (math.sqrt(2 * math.pi) * std_dev)) * exponent"
   ]
  },
  {
   "cell_type": "code",
   "execution_count": 79,
   "metadata": {},
   "outputs": [
    {
     "name": "stdout",
     "output_type": "stream",
     "text": [
      "0.3989422804014327\n",
      "0.24197072451914337\n",
      "0.24197072451914337\n"
     ]
    }
   ],
   "source": [
    "# Test Gaussian PDF\n",
    "print(gaussian(1.0, 1.0, 1.0))\n",
    "print(gaussian(2.0, 1.0, 1.0))\n",
    "print(gaussian(0.0, 1.0, 1.0))"
   ]
  },
  {
   "cell_type": "code",
   "execution_count": 80,
   "metadata": {},
   "outputs": [],
   "source": [
    "# We expected to see that x = 2 and x = 0 have the same probability, as they are at equal distance around the mean x = 1\n",
    "# Also, the mean x = 1 has the highest probability, as in a gaussian distribution the mean has the highest probability"
   ]
  },
  {
   "cell_type": "code",
   "execution_count": 81,
   "metadata": {},
   "outputs": [],
   "source": [
    "# function to get the probability for a new x\n",
    "\n",
    "# We will use the formula:\n",
    "# P(class|data) = P(class)*P(X1|class)*P(X2|class)*...\n",
    "\n",
    "# where we find P(Xi|class) with the gaussian function\n",
    "\n",
    "def naive_bayes(new_row, dataset):\n",
    "    \n",
    "    summaries = summarize_by_class(dataset)\n",
    "    \n",
    "    total_train = 0\n",
    "    \n",
    "    for i in summaries.keys():\n",
    "        total_train = total_train + summaries[i][0][2]\n",
    "    \n",
    "    probabilities = {}\n",
    "    \n",
    "    for i in summaries.keys():\n",
    "        \n",
    "        probabilities[i] =summaries[i][0][2]/total_train # this is P(class)\n",
    "        \n",
    "        for j in range(len(summaries[i])):\n",
    "            \n",
    "            probabilities[i] = probabilities[i]*gaussian(new_row[j],summaries[i][j][0],summaries[i][j][1])\n",
    "    \n",
    "    return probabilities\n"
   ]
  },
  {
   "cell_type": "code",
   "execution_count": 82,
   "metadata": {},
   "outputs": [
    {
     "name": "stdout",
     "output_type": "stream",
     "text": [
      "{0: 0.05032427673372076, 1: 0.00011557718379945765}\n"
     ]
    }
   ],
   "source": [
    "# Test with the first row in the dataset\n",
    "\n",
    "probabilities = naive_bayes(dataset[0], dataset)\n",
    "print(probabilities)"
   ]
  },
  {
   "cell_type": "code",
   "execution_count": null,
   "metadata": {},
   "outputs": [],
   "source": [
    "# We see that the probability of the first row having class 0 is much greater than of having class 1, as expected"
   ]
  }
 ],
 "metadata": {
  "kernelspec": {
   "display_name": "Python 3",
   "language": "python",
   "name": "python3"
  },
  "language_info": {
   "codemirror_mode": {
    "name": "ipython",
    "version": 3
   },
   "file_extension": ".py",
   "mimetype": "text/x-python",
   "name": "python",
   "nbconvert_exporter": "python",
   "pygments_lexer": "ipython3",
   "version": "3.7.3"
  }
 },
 "nbformat": 4,
 "nbformat_minor": 2
}
